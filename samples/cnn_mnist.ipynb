{
 "cells": [
  {
   "cell_type": "code",
   "execution_count": 1,
   "metadata": {},
   "outputs": [],
   "source": [
    "import matplotlib.pyplot as plt\n",
    "import numpy as np\n",
    "import os\n",
    "import pandas as pd\n",
    "import shutil"
   ]
  },
  {
   "cell_type": "code",
   "execution_count": 2,
   "metadata": {},
   "outputs": [
    {
     "name": "stderr",
     "output_type": "stream",
     "text": [
      "C:\\Users\\AragornDai\\AppData\\Local\\conda\\conda\\envs\\tensorflow\\lib\\site-packages\\h5py\\__init__.py:36: FutureWarning: Conversion of the second argument of issubdtype from `float` to `np.floating` is deprecated. In future, it will be treated as `np.float64 == np.dtype(float).type`.\n",
      "  from ._conv import register_converters as _register_converters\n",
      "Using TensorFlow backend.\n"
     ]
    },
    {
     "name": "stdout",
     "output_type": "stream",
     "text": [
      "\n"
     ]
    }
   ],
   "source": [
    "from keras.layers import Conv2D, Dense, Dropout, Flatten, MaxPooling2D\n",
    "from keras.models import Sequential\n",
    "from keras.utils import np_utils\n",
    "\n",
    "print()"
   ]
  },
  {
   "cell_type": "code",
   "execution_count": 3,
   "metadata": {},
   "outputs": [
    {
     "name": "stdout",
     "output_type": "stream",
     "text": [
      "Clear the directory: ./temp/\n",
      "\n"
     ]
    }
   ],
   "source": [
    "temp_dir = './temp/'\n",
    "if os.path.exists(temp_dir):\n",
    "    shutil.rmtree(temp_dir)\n",
    "    os.makedirs(temp_dir)\n",
    "    print('Clear the directory: {}\\n'.format(temp_dir))\n",
    "else:\n",
    "    os.makedirs(temp_dir)\n",
    "    print('Create the directory: {}\\n'.format(temp_dir))\n",
    "\n",
    "def savefig(fig, file_name):\n",
    "    fig.savefig(temp_dir + file_name + '.png')\n",
    "    print('Image file saved:', temp_dir + file_name + '.png')"
   ]
  },
  {
   "cell_type": "code",
   "execution_count": 4,
   "metadata": {},
   "outputs": [
    {
     "name": "stdout",
     "output_type": "stream",
     "text": [
      "Loading data...\n",
      "Done\n",
      "x_train_image.shape = (60000, 28, 28)\n",
      "y_train_label.shape = (60000,)\n",
      " x_test_image.shape = (10000, 28, 28)\n",
      " y_test_label.shape = (10000,)\n",
      "\n"
     ]
    }
   ],
   "source": [
    "print('Loading data...')\n",
    "from keras.datasets import mnist\n",
    "(x_train_image, y_train_label), (x_test_image, y_test_label) = mnist.load_data()\n",
    "print('Done')\n",
    "print(\"x_train_image.shape = {}\".format(x_train_image.shape))\n",
    "print(\"y_train_label.shape = {}\".format(y_train_label.shape))\n",
    "print(\" x_test_image.shape = {}\".format(x_test_image.shape))\n",
    "print(\" y_test_label.shape = {}\\n\".format(y_test_label.shape))"
   ]
  },
  {
   "cell_type": "code",
   "execution_count": 5,
   "metadata": {},
   "outputs": [
    {
     "name": "stdout",
     "output_type": "stream",
     "text": [
      "Image file saved: ./temp/images_train_0_7.png\n",
      "\n"
     ]
    },
    {
     "data": {
      "image/png": "[encoded data removed]",
      "text/plain": [
       "<matplotlib.figure.Figure at 0xd1faeb8>"
      ]
     },
     "metadata": {},
     "output_type": "display_data"
    }
   ],
   "source": [
    "images_per_row = 8\n",
    "defualt_row_number = 1\n",
    "max_row_number = 3\n",
    "\n",
    "def plot_images_labels_prediction(images, labels,\n",
    "                                  prediction = [],\n",
    "                                  start_index = 0,\n",
    "                                  num = images_per_row * defualt_row_number):\n",
    "    plt.clf()\n",
    "    fig = plt.gcf()\n",
    "    fig.set_size_inches(images_per_row * 2, images_per_row * 1.5)\n",
    "    if num > images_per_row * max_row_number:\n",
    "        raise ValueError(\"The maximum data number to print is \" + str(images_per_row * max_row_number) + \".\")\n",
    "    for i in range(0, num):\n",
    "        ax = plt.subplot(max_row_number, images_per_row, 1 + i)\n",
    "        ax.imshow(images[start_index], cmap='binary')\n",
    "        title = \"i = \" + str(start_index) + \", y = \" + str(labels[start_index])\n",
    "        if len(prediction) > 0:\n",
    "            title += \", predict = \" + str(prediction[start_index])\n",
    "        ax.set_title(title, fontsize = 8)\n",
    "        ax.set_xticks([])\n",
    "        ax.set_yticks([])\n",
    "        start_index += 1\n",
    "#   plt.show()\n",
    "    if len(prediction) <= 0:\n",
    "        savefig(fig, 'images_train_' + str(start_index - num) + '_' + str(start_index - 1))\n",
    "    else:\n",
    "        savefig(fig, 'images_test_' + str(start_index - num) + '_' + str(start_index - 1))\n",
    "\n",
    "plot_images_labels_prediction(x_train_image, y_train_label)\n",
    "print()"
   ]
  },
  {
   "cell_type": "code",
   "execution_count": 6,
   "metadata": {
    "scrolled": true
   },
   "outputs": [],
   "source": [
    "# normalize input image, 0 < input < 1\n",
    "def normalize_input(input_image):\n",
    "    return input_image.reshape(input_image.shape[0], 28, 28, 1).astype('float64') / 255\n",
    "\n",
    "# normalize output label as one-hot encoding, for example, 4 will normalize as [0. 0. 0. 0. 1. 0. 0. 0. 0. 0.]\n",
    "def normalize_output(output_label):\n",
    "    return np_utils.to_categorical(output_label)\n",
    "\n",
    "# data preprocessing\n",
    "x_train = normalize_input(x_train_image)\n",
    "x_test  = normalize_input(x_test_image)\n",
    "y_train = normalize_output(y_train_label)\n",
    "y_test  = normalize_output(y_test_label)"
   ]
  },
  {
   "cell_type": "code",
   "execution_count": 7,
   "metadata": {},
   "outputs": [
    {
     "name": "stdout",
     "output_type": "stream",
     "text": [
      "_________________________________________________________________\n",
      "Layer (type)                 Output Shape              Param #   \n",
      "=================================================================\n",
      "conv2d_1 (Conv2D)            (None, 28, 28, 16)        416       \n",
      "_________________________________________________________________\n",
      "max_pooling2d_1 (MaxPooling2 (None, 14, 14, 16)        0         \n",
      "_________________________________________________________________\n",
      "conv2d_2 (Conv2D)            (None, 14, 14, 36)        14436     \n",
      "_________________________________________________________________\n",
      "max_pooling2d_2 (MaxPooling2 (None, 7, 7, 36)          0         \n",
      "_________________________________________________________________\n",
      "dropout_1 (Dropout)          (None, 7, 7, 36)          0         \n",
      "_________________________________________________________________\n",
      "flatten_1 (Flatten)          (None, 1764)              0         \n",
      "_________________________________________________________________\n",
      "dense_1 (Dense)              (None, 100)               176500    \n",
      "_________________________________________________________________\n",
      "dense_2 (Dense)              (None, 10)                1010      \n",
      "=================================================================\n",
      "Total params: 192,362\n",
      "Trainable params: 192,362\n",
      "Non-trainable params: 0\n",
      "_________________________________________________________________\n",
      "None \n",
      "\n"
     ]
    }
   ],
   "source": [
    "# create convolutional neural network\n",
    "model = Sequential()\n",
    "# convolutional layer 1\n",
    "model.add(\n",
    "    Conv2D(\n",
    "        filters = 16, # the number of output filters\n",
    "        kernel_size = (5, 5), # the width and height of the 2D convolution window\n",
    "        padding = 'same', # not changing data shape\n",
    "        input_shape = (28, 28, 1),\n",
    "        activation = 'relu'\n",
    "    )\n",
    ")\n",
    "# pooling layer 1\n",
    "model.add(\n",
    "    MaxPooling2D(\n",
    "        pool_size = (2, 2)\n",
    "    )\n",
    ")\n",
    "# convolutional layer 2\n",
    "model.add(\n",
    "    Conv2D(filters = 36,\n",
    "        kernel_size = (5, 5),\n",
    "            padding = 'same',\n",
    "            input_shape = (28, 28, 1),\n",
    "            activation = 'relu'\n",
    "    )\n",
    ")\n",
    "# pooling layer 2\n",
    "model.add(\n",
    "    MaxPooling2D(\n",
    "        pool_size = (2, 2)\n",
    "    )\n",
    ")\n",
    "# dropout layer\n",
    "model.add(\n",
    "    Dropout(\n",
    "        rate = 0.5\n",
    "    )\n",
    ")\n",
    "# flatten layer\n",
    "model.add(\n",
    "    Flatten()\n",
    ")\n",
    "# hidden layer 1\n",
    "model.add(\n",
    "    Dense(\n",
    "        units = 100,\n",
    "        activation = 'relu',\n",
    "        kernel_initializer = 'normal',\n",
    "        bias_initializer = 'normal'\n",
    "    )\n",
    ")\n",
    "# hidden layer 2\n",
    "model.add(\n",
    "    Dense(\n",
    "        units = 10,\n",
    "        activation = 'softmax',\n",
    "        kernel_initializer = 'normal',\n",
    "        bias_initializer = 'normal'\n",
    "    )\n",
    ")\n",
    "print(model.summary(), '\\n')"
   ]
  },
  {
   "cell_type": "code",
   "execution_count": 8,
   "metadata": {},
   "outputs": [],
   "source": [
    "# definite training method\n",
    "model.compile(\n",
    "    optimizer = 'adam',\n",
    "    loss = 'categorical_crossentropy',\n",
    "    metrics = ['accuracy']\n",
    ")"
   ]
  },
  {
   "cell_type": "code",
   "execution_count": 9,
   "metadata": {},
   "outputs": [
    {
     "name": "stdout",
     "output_type": "stream",
     "text": [
      "Train on 48000 samples, validate on 12000 samples\n",
      "Epoch 1/20\n",
      "48000/48000 [==============================] - 41s 844us/step - loss: 0.5511 - acc: 0.8322 - val_loss: 0.1263 - val_acc: 0.9646\n",
      "Epoch 2/20\n",
      "48000/48000 [==============================] - 40s 841us/step - loss: 0.1303 - acc: 0.9590 - val_loss: 0.0784 - val_acc: 0.9762\n",
      "Epoch 3/20\n",
      "48000/48000 [==============================] - 41s 858us/step - loss: 0.0922 - acc: 0.9717 - val_loss: 0.0594 - val_acc: 0.9818\n",
      "Epoch 4/20\n",
      "48000/48000 [==============================] - 42s 874us/step - loss: 0.0766 - acc: 0.9765 - val_loss: 0.0525 - val_acc: 0.9850\n",
      "Epoch 5/20\n",
      "48000/48000 [==============================] - 42s 881us/step - loss: 0.0641 - acc: 0.9797 - val_loss: 0.0469 - val_acc: 0.9861\n",
      "Epoch 6/20\n",
      "48000/48000 [==============================] - 42s 878us/step - loss: 0.0554 - acc: 0.9831 - val_loss: 0.0412 - val_acc: 0.9882\n",
      "Epoch 7/20\n",
      "48000/48000 [==============================] - 42s 877us/step - loss: 0.0517 - acc: 0.9837 - val_loss: 0.0403 - val_acc: 0.9881\n",
      "Epoch 8/20\n",
      "48000/48000 [==============================] - 42s 874us/step - loss: 0.0462 - acc: 0.9850 - val_loss: 0.0387 - val_acc: 0.9893\n",
      "Epoch 9/20\n",
      "48000/48000 [==============================] - 42s 878us/step - loss: 0.0406 - acc: 0.9872 - val_loss: 0.0356 - val_acc: 0.9898\n",
      "Epoch 10/20\n",
      "48000/48000 [==============================] - 42s 872us/step - loss: 0.0379 - acc: 0.9877 - val_loss: 0.0354 - val_acc: 0.9894\n",
      "Epoch 11/20\n",
      "48000/48000 [==============================] - 42s 874us/step - loss: 0.0357 - acc: 0.9881 - val_loss: 0.0348 - val_acc: 0.9893\n",
      "Epoch 12/20\n",
      "48000/48000 [==============================] - 42s 879us/step - loss: 0.0324 - acc: 0.9894 - val_loss: 0.0306 - val_acc: 0.9908\n",
      "Epoch 13/20\n",
      "48000/48000 [==============================] - 43s 896us/step - loss: 0.0305 - acc: 0.9900 - val_loss: 0.0336 - val_acc: 0.9910\n",
      "Epoch 14/20\n",
      "48000/48000 [==============================] - 42s 880us/step - loss: 0.0279 - acc: 0.9905 - val_loss: 0.0295 - val_acc: 0.9908\n",
      "Epoch 15/20\n",
      "48000/48000 [==============================] - 42s 878us/step - loss: 0.0272 - acc: 0.9913 - val_loss: 0.0295 - val_acc: 0.9911\n",
      "Epoch 16/20\n",
      "48000/48000 [==============================] - 42s 874us/step - loss: 0.0251 - acc: 0.9916 - val_loss: 0.0311 - val_acc: 0.9917\n",
      "Epoch 17/20\n",
      "48000/48000 [==============================] - 42s 879us/step - loss: 0.0237 - acc: 0.9923 - val_loss: 0.0285 - val_acc: 0.9913\n",
      "Epoch 18/20\n",
      "48000/48000 [==============================] - 42s 873us/step - loss: 0.0212 - acc: 0.9929 - val_loss: 0.0294 - val_acc: 0.9913\n",
      "Epoch 19/20\n",
      "48000/48000 [==============================] - 42s 880us/step - loss: 0.0203 - acc: 0.9931 - val_loss: 0.0301 - val_acc: 0.9913\n",
      "Epoch 20/20\n",
      "48000/48000 [==============================] - 42s 871us/step - loss: 0.0201 - acc: 0.9937 - val_loss: 0.0282 - val_acc: 0.9918\n"
     ]
    }
   ],
   "source": [
    "# start training\n",
    "train_history = model.fit(\n",
    "    x = x_train,\n",
    "    y = y_train,\n",
    "    batch_size = 300,\n",
    "    epochs = 20,\n",
    "    validation_split = 0.2\n",
    ")"
   ]
  },
  {
   "cell_type": "code",
   "execution_count": 10,
   "metadata": {},
   "outputs": [],
   "source": [
    "def show_train_history(train_history, train, validation):\n",
    "    plt.clf()\n",
    "    plt.plot(train_history.history[train])\n",
    "    plt.plot(train_history.history[validation])\n",
    "    plt.title('Train History')\n",
    "    plt.ylabel(train)\n",
    "    plt.xlabel('Epoch')\n",
    "    plt.legend(['train', 'validation'], loc = 'upper left')\n",
    "#   plt.show()\n",
    "    savefig(plt, 'training_history_' + train)"
   ]
  },
  {
   "cell_type": "code",
   "execution_count": 11,
   "metadata": {},
   "outputs": [
    {
     "name": "stdout",
     "output_type": "stream",
     "text": [
      "Image file saved: ./temp/training_history_acc.png\n"
     ]
    },
    {
     "data": {
      "image/png": "[encoded data removed]",
      "text/plain": [
       "<matplotlib.figure.Figure at 0x128028d0>"
      ]
     },
     "metadata": {},
     "output_type": "display_data"
    }
   ],
   "source": [
    "show_train_history(train_history, 'acc', 'val_acc')"
   ]
  },
  {
   "cell_type": "code",
   "execution_count": 12,
   "metadata": {},
   "outputs": [
    {
     "name": "stdout",
     "output_type": "stream",
     "text": [
      "Image file saved: ./temp/training_history_loss.png\n",
      "\n"
     ]
    },
    {
     "data": {
      "image/png": "[encoded data removed]",
      "text/plain": [
       "<matplotlib.figure.Figure at 0x127d9be0>"
      ]
     },
     "metadata": {},
     "output_type": "display_data"
    }
   ],
   "source": [
    "show_train_history(train_history, 'loss', 'val_loss')\n",
    "print()"
   ]
  },
  {
   "cell_type": "code",
   "execution_count": 13,
   "metadata": {},
   "outputs": [
    {
     "name": "stdout",
     "output_type": "stream",
     "text": [
      "Evaluating: \n",
      "10000/10000 [==============================] - 4s 355us/step\n",
      "The loss of testing data: 0.02141828458572927\n",
      "The accuracy of testing data = 99.3%\n"
     ]
    }
   ],
   "source": [
    "print('Evaluating: ')\n",
    "scores = model.evaluate(x_test, y_test)\n",
    "print(\"The loss of testing data:\", scores[0])\n",
    "print(\"The accuracy of testing data = {}%\".format(scores[1] * 100.0))"
   ]
  },
  {
   "cell_type": "code",
   "execution_count": 14,
   "metadata": {},
   "outputs": [
    {
     "name": "stdout",
     "output_type": "stream",
     "text": [
      "Predicting: \n",
      "10000/10000 [==============================] - 4s 352us/step\n",
      "predict    0     1     2     3    4    5    6     7    8    9\n",
      "y                                                            \n",
      "0        978     0     0     1    0    0    1     0    0    0\n",
      "1          0  1130     2     0    0    1    1     1    0    0\n",
      "2          2     1  1027     0    0    0    0     1    1    0\n",
      "3          0     0     1  1006    0    1    0     1    1    0\n",
      "4          0     0     0     0  976    0    2     0    1    3\n",
      "5          1     0     0     5    0  883    1     0    0    2\n",
      "6          3     1     0     0    2    1  950     0    1    0\n",
      "7          0     0     5     1    0    0    0  1020    1    1\n",
      "8          2     0     2     1    0    1    0     1  963    4\n",
      "9          0     0     0     1    5    2    0     2    2  997 \n",
      "\n"
     ]
    }
   ],
   "source": [
    "print('Predicting: ')\n",
    "prediction = model.predict_classes(x_test, verbose = 1)\n",
    "print(pd.crosstab(y_test_label, prediction, colnames=['predict'], rownames=['y']), '\\n')"
   ]
  },
  {
   "cell_type": "code",
   "execution_count": 15,
   "metadata": {},
   "outputs": [
    {
     "name": "stdout",
     "output_type": "stream",
     "text": [
      "Data frame for error cases:\n",
      "      label  predict\n",
      "247       4        6\n",
      "340       5        3\n",
      "445       6        0\n",
      "448       9        8\n",
      "582       8        2\n",
      "659       2        1\n",
      "684       7        2\n",
      "947       8        9\n",
      "1014      6        5\n",
      "1112      4        6\n",
      "1226      7        2\n",
      "1232      9        4\n",
      "1242      4        9\n",
      "1247      9        5\n",
      "1319      8        0\n",
      "1393      5        3\n",
      "1527      1        5\n",
      "1878      8        3\n",
      "1901      9        4\n",
      "2035      5        3\n",
      "2070      7        9\n",
      "2098      2        0\n",
      "2109      3        7\n",
      "2118      6        0\n",
      "2130      4        9\n",
      "2414      9        4\n",
      "2462      2        0\n",
      "2597      5        3\n",
      "2654      6        1\n",
      "2896      8        0\n",
      "...     ...      ...\n",
      "3808      7        8\n",
      "3985      9        4\n",
      "4078      9        8\n",
      "4176      2        7\n",
      "4224      9        7\n",
      "4238      7        3\n",
      "4497      8        7\n",
      "4507      1        2\n",
      "4639      8        9\n",
      "4740      3        5\n",
      "4823      9        4\n",
      "5937      5        3\n",
      "5955      3        8\n",
      "5981      5        9\n",
      "5997      5        9\n",
      "6555      8        9\n",
      "6571      9        3\n",
      "6572      1        7\n",
      "6597      0        3\n",
      "6625      8        2\n",
      "6783      1        6\n",
      "6847      6        4\n",
      "8325      0        6\n",
      "8408      8        5\n",
      "9009      7        2\n",
      "9015      7        2\n",
      "9692      9        7\n",
      "9729      5        6\n",
      "9792      4        9\n",
      "9904      2        8\n",
      "\n",
      "[70 rows x 2 columns] \n",
      "\n"
     ]
    }
   ],
   "source": [
    "print('Data frame for error cases:')\n",
    "df = pd.DataFrame({'label': y_test_label, 'predict': prediction})\n",
    "error_list = df.loc[df.label != df.predict]\n",
    "print(error_list, '\\n')"
   ]
  },
  {
   "cell_type": "code",
   "execution_count": 16,
   "metadata": {},
   "outputs": [
    {
     "name": "stdout",
     "output_type": "stream",
     "text": [
      "The error case is at i = 244\n",
      "Image file saved: ./temp/images_test_244_251.png\n",
      "\n"
     ]
    },
    {
     "data": {
      "image/png": "[encoded data removed]",
      "text/plain": [
       "<matplotlib.figure.Figure at 0x1254b908>"
      ]
     },
     "metadata": {},
     "output_type": "display_data"
    }
   ],
   "source": [
    "print(\"The error case is at i = {}\".format(error_list.index[0] - 3))\n",
    "plot_images_labels_prediction(x_test_image, y_test_label, prediction, start_index = max(0, error_list.index[0] - 3))\n",
    "print()"
   ]
  },
  {
   "cell_type": "code",
   "execution_count": 17,
   "metadata": {},
   "outputs": [
    {
     "name": "stdout",
     "output_type": "stream",
     "text": [
      "Process ended. \n",
      "\n"
     ]
    }
   ],
   "source": [
    "print('Process ended.', '\\n')"
   ]
  },
  {
   "cell_type": "code",
   "execution_count": null,
   "metadata": {},
   "outputs": [],
   "source": []
  }
 ],
 "metadata": {
  "kernelspec": {
   "display_name": "Python 3",
   "language": "python",
   "name": "python3"
  },
  "language_info": {
   "codemirror_mode": {
    "name": "ipython",
    "version": 3
   },
   "file_extension": ".py",
   "mimetype": "text/x-python",
   "name": "python",
   "nbconvert_exporter": "python",
   "pygments_lexer": "ipython3",
   "version": "3.5.4"
  }
 },
 "nbformat": 4,
 "nbformat_minor": 2
}
