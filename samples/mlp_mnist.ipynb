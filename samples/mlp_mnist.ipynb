{
 "cells": [
  {
   "cell_type": "code",
   "execution_count": 1,
   "metadata": {},
   "outputs": [],
   "source": [
    "import matplotlib.pyplot as plt\n",
    "import numpy as np\n",
    "import os\n",
    "import pandas as pd"
   ]
  },
  {
   "cell_type": "code",
   "execution_count": 2,
   "metadata": {},
   "outputs": [
    {
     "name": "stdout",
     "output_type": "stream",
     "text": [
      "\n"
     ]
    }
   ],
   "source": [
    "from keras.layers import Dense\n",
    "from keras.models import Sequential\n",
    "from keras.utils import np_utils\n",
    "\n",
    "print()"
   ]
  },
  {
   "cell_type": "code",
   "execution_count": 3,
   "metadata": {},
   "outputs": [],
   "source": [
    "temp_dir = './temp/'\n",
    "if not os.path.exists(temp_dir):\n",
    "    os.makedirs(temp_dir)\n",
    "    print('Create directory:', temp_dir, '\\n')\n",
    "\n",
    "def savefig(fig, file_name):\n",
    "    fig.savefig(temp_dir + file_name + '.png')\n",
    "    print('Image file saved:', temp_dir + file_name + '.png')"
   ]
  },
  {
   "cell_type": "code",
   "execution_count": 4,
   "metadata": {},
   "outputs": [
    {
     "name": "stdout",
     "output_type": "stream",
     "text": [
      "Loading data...\n",
      "Done\n",
      "Inputs: (28, 28) images.\n",
      "    x_train_image: 60000\n",
      "    x_test_image : 10000\n",
      "Outputs: labels.\n",
      "    y_train_label: 60000\n",
      "    y_test_label : 10000 \n",
      "\n"
     ]
    }
   ],
   "source": [
    "print('Loading data...')\n",
    "from keras.datasets import mnist\n",
    "(x_train_image, y_train_label), (x_test_image, y_test_label) = mnist.load_data()\n",
    "print('Done')\n",
    "print('Inputs:', str(x_train_image[0].shape), 'images.')\n",
    "print('    x_train_image:', len(x_train_image))\n",
    "print('    x_test_image :', len(x_test_image))\n",
    "print('Outputs: labels.')\n",
    "print('    y_train_label:', len(y_train_label))\n",
    "print('    y_test_label :', len(y_test_label), '\\n')"
   ]
  },
  {
   "cell_type": "code",
   "execution_count": 5,
   "metadata": {},
   "outputs": [],
   "source": [
    "images_per_row = 8\n",
    "defualt_row_number = 1\n",
    "max_row_number = 3\n",
    "\n",
    "def plot_images_labels_prediction(images, labels,\n",
    "                                  prediction = [],\n",
    "                                  start_index = 0,\n",
    "                                  num = images_per_row * defualt_row_number):\n",
    "    plt.clf()\n",
    "    fig = plt.gcf()\n",
    "    fig.set_size_inches(images_per_row * 2, images_per_row * 1.5)\n",
    "    if num > images_per_row * max_row_number:\n",
    "        raise ValueError(\"The maximum data number to print is \" + str(images_per_row * max_row_number) + \".\")\n",
    "    for i in range(0, num):\n",
    "        ax = plt.subplot(max_row_number, images_per_row, 1 + i)\n",
    "        ax.imshow(images[start_index], cmap='binary')\n",
    "        title = \"i = \" + str(start_index) + \", y = \" + str(labels[start_index])\n",
    "        if len(prediction) > 0:\n",
    "            title += \", predict = \" + str(prediction[start_index])\n",
    "        ax.set_title(title, fontsize = 8)\n",
    "        ax.set_xticks([])\n",
    "        ax.set_yticks([])\n",
    "        start_index += 1\n",
    "#   plt.show()\n",
    "    if len(prediction) <= 0:\n",
    "        savefig(fig, 'images_train_' + str(start_index - num) + '_' + str(start_index - 1))\n",
    "    else:\n",
    "        savefig(fig, 'images_test_' + str(start_index - num) + '_' + str(start_index - 1))"
   ]
  },
  {
   "cell_type": "code",
   "execution_count": 6,
   "metadata": {},
   "outputs": [
    {
     "name": "stdout",
     "output_type": "stream",
     "text": [
      "Image file saved: ./temp/images_train_0_7.png\n",
      "\n"
     ]
    },
    {
     "data": {
      "image/png": "[encoded data removed]",
      "text/plain": [
       "<matplotlib.figure.Figure at 0xd152e10>"
      ]
     },
     "metadata": {},
     "output_type": "display_data"
    }
   ],
   "source": [
    "plot_images_labels_prediction(x_train_image, y_train_label)\n",
    "print()"
   ]
  },
  {
   "cell_type": "code",
   "execution_count": 7,
   "metadata": {},
   "outputs": [],
   "source": [
    "def to_normalize_input(input_image):\n",
    "    input_shape = input_image.shape\n",
    "    if len(input_shape) != 3:\n",
    "        raise ValueError(\"The length of the shape should be 3.\")\n",
    "    return input_image.reshape(input_shape[0], input_shape[1] * input_shape[2]).astype('float64') / 255\n",
    "\n",
    "def to_normalize_output(output_label):\n",
    "    return np_utils.to_categorical(output_label)"
   ]
  },
  {
   "cell_type": "code",
   "execution_count": 8,
   "metadata": {},
   "outputs": [],
   "source": [
    "x_train = to_normalize_input(x_train_image)\n",
    "x_test  = to_normalize_input(x_test_image)\n",
    "\n",
    "y_train = to_normalize_output(y_train_label)\n",
    "y_test  = to_normalize_output(y_test_label)"
   ]
  },
  {
   "cell_type": "code",
   "execution_count": 9,
   "metadata": {},
   "outputs": [],
   "source": [
    "model = Sequential()\n",
    "model.add(\n",
    "    Dense(\n",
    "        units = 200,\n",
    "        input_dim = 784,\n",
    "        activation = 'relu',\n",
    "        kernel_initializer = 'normal',\n",
    "        bias_initializer = 'normal'\n",
    "    )\n",
    ")\n",
    "model.add(\n",
    "    Dense(\n",
    "        units = 10,\n",
    "        activation = 'softmax',\n",
    "        kernel_initializer = 'normal',\n",
    "        bias_initializer = 'normal'\n",
    "    )\n",
    ")"
   ]
  },
  {
   "cell_type": "code",
   "execution_count": 10,
   "metadata": {},
   "outputs": [
    {
     "name": "stdout",
     "output_type": "stream",
     "text": [
      "_________________________________________________________________\n",
      "Layer (type)                 Output Shape              Param #   \n",
      "=================================================================\n",
      "dense_1 (Dense)              (None, 200)               157000    \n",
      "_________________________________________________________________\n",
      "dense_2 (Dense)              (None, 10)                2010      \n",
      "=================================================================\n",
      "Total params: 159,010\n",
      "Trainable params: 159,010\n",
      "Non-trainable params: 0\n",
      "_________________________________________________________________\n",
      "None \n",
      "\n"
     ]
    }
   ],
   "source": [
    "print(model.summary(), '\\n')"
   ]
  },
  {
   "cell_type": "code",
   "execution_count": 11,
   "metadata": {},
   "outputs": [],
   "source": [
    "model.compile(\n",
    "    optimizer = 'adam',\n",
    "    loss = 'categorical_crossentropy',\n",
    "    metrics = ['accuracy']\n",
    ")"
   ]
  },
  {
   "cell_type": "code",
   "execution_count": 12,
   "metadata": {},
   "outputs": [
    {
     "name": "stdout",
     "output_type": "stream",
     "text": [
      "Train on 48000 samples, validate on 12000 samples\n",
      "Epoch 1/20\n",
      "48000/48000 [==============================] - 2s 32us/step - loss: 0.4671 - acc: 0.8754 - val_loss: 0.2293 - val_acc: 0.9354\n",
      "Epoch 2/20\n",
      "48000/48000 [==============================] - 1s 27us/step - loss: 0.2029 - acc: 0.9417 - val_loss: 0.1702 - val_acc: 0.9527\n",
      "Epoch 3/20\n",
      "48000/48000 [==============================] - 2s 32us/step - loss: 0.1460 - acc: 0.9577 - val_loss: 0.1348 - val_acc: 0.9617\n",
      "Epoch 4/20\n",
      "48000/48000 [==============================] - 1s 30us/step - loss: 0.1144 - acc: 0.9677 - val_loss: 0.1184 - val_acc: 0.9650\n",
      "Epoch 5/20\n",
      "48000/48000 [==============================] - 1s 28us/step - loss: 0.0925 - acc: 0.9740 - val_loss: 0.1080 - val_acc: 0.9690\n",
      "Epoch 6/20\n",
      "48000/48000 [==============================] - 1s 29us/step - loss: 0.0762 - acc: 0.9786 - val_loss: 0.0992 - val_acc: 0.9704\n",
      "Epoch 7/20\n",
      "48000/48000 [==============================] - 1s 29us/step - loss: 0.0628 - acc: 0.9829 - val_loss: 0.0906 - val_acc: 0.9738\n",
      "Epoch 8/20\n",
      "48000/48000 [==============================] - 1s 27us/step - loss: 0.0538 - acc: 0.9854 - val_loss: 0.0933 - val_acc: 0.9713\n",
      "Epoch 9/20\n",
      "48000/48000 [==============================] - 1s 27us/step - loss: 0.0454 - acc: 0.9879 - val_loss: 0.0852 - val_acc: 0.9751\n",
      "Epoch 10/20\n",
      "48000/48000 [==============================] - 1s 27us/step - loss: 0.0386 - acc: 0.9902 - val_loss: 0.0847 - val_acc: 0.9741\n",
      "Epoch 11/20\n",
      "48000/48000 [==============================] - 1s 27us/step - loss: 0.0323 - acc: 0.9919 - val_loss: 0.0801 - val_acc: 0.9758\n",
      "Epoch 12/20\n",
      "48000/48000 [==============================] - 1s 29us/step - loss: 0.0280 - acc: 0.9930 - val_loss: 0.0822 - val_acc: 0.9763\n",
      "Epoch 13/20\n",
      "48000/48000 [==============================] - 1s 29us/step - loss: 0.0239 - acc: 0.9941 - val_loss: 0.0787 - val_acc: 0.9757\n",
      "Epoch 14/20\n",
      "48000/48000 [==============================] - 1s 29us/step - loss: 0.0204 - acc: 0.9957 - val_loss: 0.0824 - val_acc: 0.9746\n",
      "Epoch 15/20\n",
      "48000/48000 [==============================] - 1s 29us/step - loss: 0.0174 - acc: 0.9967 - val_loss: 0.0823 - val_acc: 0.9758\n",
      "Epoch 16/20\n",
      "48000/48000 [==============================] - 1s 28us/step - loss: 0.0145 - acc: 0.9974 - val_loss: 0.0790 - val_acc: 0.9764\n",
      "Epoch 17/20\n",
      "48000/48000 [==============================] - 1s 29us/step - loss: 0.0123 - acc: 0.9979 - val_loss: 0.0770 - val_acc: 0.9767\n",
      "Epoch 18/20\n",
      "48000/48000 [==============================] - 1s 29us/step - loss: 0.0105 - acc: 0.9985 - val_loss: 0.0791 - val_acc: 0.9776\n",
      "Epoch 19/20\n",
      "48000/48000 [==============================] - 1s 28us/step - loss: 0.0089 - acc: 0.9989 - val_loss: 0.0789 - val_acc: 0.9780\n",
      "Epoch 20/20\n",
      "48000/48000 [==============================] - 1s 28us/step - loss: 0.0075 - acc: 0.9991 - val_loss: 0.0786 - val_acc: 0.9775\n"
     ]
    }
   ],
   "source": [
    "train_history = model.fit(\n",
    "    x = x_train,\n",
    "    y = y_train,\n",
    "    batch_size = 200,\n",
    "    epochs = 20,\n",
    "    validation_split = 0.2\n",
    ")"
   ]
  },
  {
   "cell_type": "code",
   "execution_count": 13,
   "metadata": {},
   "outputs": [],
   "source": [
    "def show_train_history(train_history, train, validation, title = None):\n",
    "    plt.clf()\n",
    "    plt.plot(train_history.history[train])\n",
    "    plt.plot(train_history.history[validation])\n",
    "    plt.title('Train History')\n",
    "    plt.ylabel(train)\n",
    "    plt.xlabel('Epoch')\n",
    "    plt.legend(['train', 'validation'], loc = 'upper left')\n",
    "#   plt.show()\n",
    "    savefig(plt, 'training_history_' + train)"
   ]
  },
  {
   "cell_type": "code",
   "execution_count": 14,
   "metadata": {},
   "outputs": [
    {
     "name": "stdout",
     "output_type": "stream",
     "text": [
      "Image file saved: ./temp/training_history_acc.png\n"
     ]
    },
    {
     "data": {
      "image/png": "[encoded data removed]",
      "text/plain": [
       "<matplotlib.figure.Figure at 0x11dd1d30>"
      ]
     },
     "metadata": {},
     "output_type": "display_data"
    }
   ],
   "source": [
    "show_train_history(train_history, 'acc', 'val_acc')"
   ]
  },
  {
   "cell_type": "code",
   "execution_count": 15,
   "metadata": {},
   "outputs": [
    {
     "name": "stdout",
     "output_type": "stream",
     "text": [
      "Image file saved: ./temp/training_history_loss.png\n",
      "\n"
     ]
    },
    {
     "data": {
      "image/png": "[encoded data removed]",
      "text/plain": [
       "<matplotlib.figure.Figure at 0x11db5550>"
      ]
     },
     "metadata": {},
     "output_type": "display_data"
    }
   ],
   "source": [
    "show_train_history(train_history, 'loss', 'val_loss')\n",
    "print()"
   ]
  },
  {
   "cell_type": "code",
   "execution_count": 16,
   "metadata": {},
   "outputs": [
    {
     "name": "stdout",
     "output_type": "stream",
     "text": [
      "Evaluating: \n",
      "10000/10000 [==============================] - 0s 23us/step\n",
      "The loss for test data: 0.07046400248015416\n",
      "The accuracy for test data: 97.99 %\n",
      "\n"
     ]
    }
   ],
   "source": [
    "print('Evaluating: ')\n",
    "scores = model.evaluate(x_test, y_test)\n",
    "print(\"The loss for test data:\", scores[0])\n",
    "print(\"The accuracy for test data:\", scores[1] * 100, '%\\n')"
   ]
  },
  {
   "cell_type": "code",
   "execution_count": 17,
   "metadata": {},
   "outputs": [
    {
     "name": "stdout",
     "output_type": "stream",
     "text": [
      "Predicting: \n",
      "10000/10000 [==============================] - 0s 19us/step\n",
      "predict    0     1     2    3    4    5    6     7    8    9\n",
      "y                                                           \n",
      "0        971     0     1    0    0    1    2     1    2    2\n",
      "1          0  1123     4    1    0    0    2     1    4    0\n",
      "2          4     1  1011    2    1    0    2     5    6    0\n",
      "3          0     0     3  993    0    4    0     2    5    3\n",
      "4          0     0     4    1  960    0    3     2    2   10\n",
      "5          2     1     0    9    1  872    2     1    4    0\n",
      "6          6     3     2    1    3    3  938     0    2    0\n",
      "7          0     4     7    4    0    1    0  1005    1    6\n",
      "8          3     0     4    5    4    3    2     4  945    4\n",
      "9          1     3     0    8    8    2    0     6    0  981 \n",
      "\n"
     ]
    }
   ],
   "source": [
    "print('Predicting: ')\n",
    "prediction = model.predict_classes(x_test, verbose = 1)\n",
    "print(pd.crosstab(y_test_label, prediction, colnames=['predict'], rownames=['y']), '\\n')"
   ]
  },
  {
   "cell_type": "code",
   "execution_count": 18,
   "metadata": {},
   "outputs": [
    {
     "name": "stdout",
     "output_type": "stream",
     "text": [
      "Data frame for error cases:\n",
      "      label  predict\n",
      "247       4        2\n",
      "321       2        7\n",
      "340       5        3\n",
      "445       6        0\n",
      "495       8        2\n",
      "582       8        2\n",
      "613       2        8\n",
      "619       1        8\n",
      "659       2        1\n",
      "684       7        3\n",
      "691       8        4\n",
      "707       4        9\n",
      "720       5        8\n",
      "740       4        9\n",
      "877       8        5\n",
      "900       1        3\n",
      "947       8        9\n",
      "951       5        4\n",
      "956       1        2\n",
      "965       6        0\n",
      "1003      5        3\n",
      "1014      6        5\n",
      "1039      7        2\n",
      "1112      4        6\n",
      "1181      6        1\n",
      "1194      7        9\n",
      "1226      7        2\n",
      "1232      9        4\n",
      "1242      4        9\n",
      "1247      9        5\n",
      "...     ...      ...\n",
      "8020      1        8\n",
      "8094      2        8\n",
      "8273      0        9\n",
      "8311      6        4\n",
      "8325      0        6\n",
      "8520      4        9\n",
      "8522      8        6\n",
      "8527      4        9\n",
      "9009      7        2\n",
      "9015      7        2\n",
      "9019      7        2\n",
      "9024      7        2\n",
      "9280      8        5\n",
      "9587      9        4\n",
      "9634      0        8\n",
      "9664      2        7\n",
      "9679      6        3\n",
      "9692      9        7\n",
      "9698      6        5\n",
      "9700      2        8\n",
      "9729      5        6\n",
      "9745      4        2\n",
      "9770      5        0\n",
      "9779      2        0\n",
      "9811      2        8\n",
      "9839      2        7\n",
      "9904      2        0\n",
      "9941      5        8\n",
      "9944      3        8\n",
      "9982      5        6\n",
      "\n",
      "[201 rows x 2 columns] \n",
      "\n"
     ]
    }
   ],
   "source": [
    "print('Data frame for error cases:')\n",
    "df = pd.DataFrame({'label': y_test_label, 'predict': prediction})\n",
    "print(df[df.label != df.predict], '\\n')"
   ]
  },
  {
   "cell_type": "code",
   "execution_count": 19,
   "metadata": {},
   "outputs": [
    {
     "name": "stdout",
     "output_type": "stream",
     "text": [
      "Image file saved: ./temp/images_test_110_117.png\n",
      "\n"
     ]
    },
    {
     "data": {
      "image/png": "[encoded data removed]",
      "text/plain": [
       "<matplotlib.figure.Figure at 0x11af1f28>"
      ]
     },
     "metadata": {},
     "output_type": "display_data"
    }
   ],
   "source": [
    "plot_images_labels_prediction(x_test_image, y_test_label, prediction, start_index = 110)\n",
    "print()"
   ]
  },
  {
   "cell_type": "code",
   "execution_count": 20,
   "metadata": {},
   "outputs": [
    {
     "name": "stdout",
     "output_type": "stream",
     "text": [
      "Process ended. \n",
      "\n"
     ]
    }
   ],
   "source": [
    "print('Process ended.', '\\n')"
   ]
  },
  {
   "cell_type": "code",
   "execution_count": null,
   "metadata": {},
   "outputs": [],
   "source": []
  }
 ],
 "metadata": {
  "kernelspec": {
   "display_name": "Python 3",
   "language": "python",
   "name": "python3"
  },
  "language_info": {
   "codemirror_mode": {
    "name": "ipython",
    "version": 3
   },
   "file_extension": ".py",
   "mimetype": "text/x-python",
   "name": "python",
   "nbconvert_exporter": "python",
   "pygments_lexer": "ipython3",
   "version": "3.5.4"
  }
 },
 "nbformat": 4,
 "nbformat_minor": 2
}
