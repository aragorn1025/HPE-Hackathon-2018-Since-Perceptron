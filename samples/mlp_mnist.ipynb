{
 "cells": [
  {
   "cell_type": "code",
   "execution_count": 1,
   "metadata": {},
   "outputs": [],
   "source": [
    "import matplotlib.pyplot as plt\n",
    "import numpy as np\n",
    "import os\n",
    "import pandas as pd\n",
    "import shutil"
   ]
  },
  {
   "cell_type": "code",
   "execution_count": 2,
   "metadata": {},
   "outputs": [
    {
     "name": "stdout",
     "output_type": "stream",
     "text": [
      "\n"
     ]
    }
   ],
   "source": [
    "from keras.layers import Dense, Dropout\n",
    "from keras.models import Sequential\n",
    "from keras.utils import np_utils\n",
    "\n",
    "print()"
   ]
  },
  {
   "cell_type": "code",
   "execution_count": 3,
   "metadata": {},
   "outputs": [
    {
     "name": "stdout",
     "output_type": "stream",
     "text": [
      "Clear the directory: ./temp/\n",
      "\n"
     ]
    }
   ],
   "source": [
    "temp_dir = './temp/'\n",
    "if os.path.exists(temp_dir):\n",
    "    shutil.rmtree(temp_dir)\n",
    "    os.makedirs(temp_dir)\n",
    "    print('Clear the directory: {}\\n'.format(temp_dir))\n",
    "else:\n",
    "    os.makedirs(temp_dir)\n",
    "    print('Create the directory: {}\\n'.format(temp_dir))\n",
    "\n",
    "def savefig(fig, file_name):\n",
    "    fig.savefig(temp_dir + file_name + '.png')\n",
    "    print('Image file saved:', temp_dir + file_name + '.png')"
   ]
  },
  {
   "cell_type": "code",
   "execution_count": 4,
   "metadata": {},
   "outputs": [
    {
     "name": "stdout",
     "output_type": "stream",
     "text": [
      "Loading data...\n",
      "Done\n",
      "x_train_image.shape = (60000, 28, 28)\n",
      "y_train_label.shape = (60000,)\n",
      " x_test_image.shape = (10000, 28, 28)\n",
      " y_test_label.shape = (10000,)\n",
      "\n"
     ]
    }
   ],
   "source": [
    "print('Loading data...')\n",
    "from keras.datasets import mnist\n",
    "(x_train_image, y_train_label), (x_test_image, y_test_label) = mnist.load_data()\n",
    "print('Done')\n",
    "print(\"x_train_image.shape = {}\".format(x_train_image.shape))\n",
    "print(\"y_train_label.shape = {}\".format(y_train_label.shape))\n",
    "print(\" x_test_image.shape = {}\".format(x_test_image.shape))\n",
    "print(\" y_test_label.shape = {}\\n\".format(y_test_label.shape))"
   ]
  },
  {
   "cell_type": "code",
   "execution_count": 5,
   "metadata": {},
   "outputs": [
    {
     "name": "stdout",
     "output_type": "stream",
     "text": [
      "Image file saved: ./temp/images_train_0_7.png\n",
      "\n"
     ]
    },
    {
     "data": {
      "image/png": "[encoded data removed]",
      "text/plain": [
       "<matplotlib.figure.Figure at 0xd20be10>"
      ]
     },
     "metadata": {},
     "output_type": "display_data"
    }
   ],
   "source": [
    "images_per_row = 8\n",
    "defualt_row_number = 1\n",
    "max_row_number = 3\n",
    "\n",
    "def plot_images_labels_prediction(images, labels,\n",
    "                                  prediction = [],\n",
    "                                  start_index = 0,\n",
    "                                  num = images_per_row * defualt_row_number):\n",
    "    plt.clf()\n",
    "    fig = plt.gcf()\n",
    "    fig.set_size_inches(images_per_row * 2, images_per_row * 1.5)\n",
    "    if num > images_per_row * max_row_number:\n",
    "        raise ValueError(\"The maximum data number to print is \" + str(images_per_row * max_row_number) + \".\")\n",
    "    for i in range(0, num):\n",
    "        ax = plt.subplot(max_row_number, images_per_row, 1 + i)\n",
    "        ax.imshow(images[start_index], cmap='binary')\n",
    "        title = \"i = \" + str(start_index) + \", y = \" + str(labels[start_index])\n",
    "        if len(prediction) > 0:\n",
    "            title += \", predict = \" + str(prediction[start_index])\n",
    "        ax.set_title(title, fontsize = 8)\n",
    "        ax.set_xticks([])\n",
    "        ax.set_yticks([])\n",
    "        start_index += 1\n",
    "#   plt.show()\n",
    "    if len(prediction) <= 0:\n",
    "        savefig(fig, 'images_train_' + str(start_index - num) + '_' + str(start_index - 1))\n",
    "    else:\n",
    "        savefig(fig, 'images_test_' + str(start_index - num) + '_' + str(start_index - 1))\n",
    "\n",
    "plot_images_labels_prediction(x_train_image, y_train_label)\n",
    "print()"
   ]
  },
  {
   "cell_type": "code",
   "execution_count": 6,
   "metadata": {},
   "outputs": [],
   "source": [
    "# normalize input image, 0 < input < 1\n",
    "def normalize_input(input_image):\n",
    "    return input_image.reshape(input_image.shape[0], 28 * 28).astype('float64') / 255\n",
    "\n",
    "# normalize output label as one-hot encoding, for example, 4 will normalize as [0. 0. 0. 0. 1. 0. 0. 0. 0. 0.]\n",
    "def normalize_output(output_label):\n",
    "    return np_utils.to_categorical(output_label)\n",
    "\n",
    "# data preprocessing\n",
    "x_train = normalize_input(x_train_image)\n",
    "x_test  = normalize_input(x_test_image)\n",
    "y_train = normalize_output(y_train_label)\n",
    "y_test  = normalize_output(y_test_label)"
   ]
  },
  {
   "cell_type": "code",
   "execution_count": 7,
   "metadata": {},
   "outputs": [
    {
     "name": "stdout",
     "output_type": "stream",
     "text": [
      "_________________________________________________________________\n",
      "Layer (type)                 Output Shape              Param #   \n",
      "=================================================================\n",
      "dense_1 (Dense)              (None, 100)               78500     \n",
      "_________________________________________________________________\n",
      "dropout_1 (Dropout)          (None, 100)               0         \n",
      "_________________________________________________________________\n",
      "dense_2 (Dense)              (None, 10)                1010      \n",
      "=================================================================\n",
      "Total params: 79,510\n",
      "Trainable params: 79,510\n",
      "Non-trainable params: 0\n",
      "_________________________________________________________________\n",
      "None \n",
      "\n"
     ]
    }
   ],
   "source": [
    "# create multi-layer preceptron neural network\n",
    "model = Sequential()\n",
    "# hidden layer 1\n",
    "model.add(\n",
    "    Dense(\n",
    "        units = 100,\n",
    "        input_dim = 784,\n",
    "        activation = 'relu',\n",
    "        kernel_initializer = 'normal',\n",
    "        bias_initializer = 'normal'\n",
    "    )\n",
    ")\n",
    "# dropout layer\n",
    "model.add(\n",
    "    Dropout(\n",
    "        rate = 0.5\n",
    "    )\n",
    ")\n",
    "# hidden layer 2\n",
    "model.add(\n",
    "    Dense(\n",
    "        units = 10,\n",
    "        activation = 'softmax',\n",
    "        kernel_initializer = 'normal',\n",
    "        bias_initializer = 'normal'\n",
    "    )\n",
    ")\n",
    "print(model.summary(), '\\n')"
   ]
  },
  {
   "cell_type": "code",
   "execution_count": 8,
   "metadata": {},
   "outputs": [],
   "source": [
    "# definite training method\n",
    "model.compile(\n",
    "    optimizer = 'adam',\n",
    "    loss = 'categorical_crossentropy',\n",
    "    metrics = ['accuracy']\n",
    ")"
   ]
  },
  {
   "cell_type": "code",
   "execution_count": 9,
   "metadata": {},
   "outputs": [
    {
     "name": "stdout",
     "output_type": "stream",
     "text": [
      "Train on 48000 samples, validate on 12000 samples\n",
      "Epoch 1/20\n",
      "48000/48000 [==============================] - 1s 27us/step - loss: 0.7555 - acc: 0.7817 - val_loss: 0.3084 - val_acc: 0.9159\n",
      "Epoch 2/20\n",
      "48000/48000 [==============================] - 1s 30us/step - loss: 0.3773 - acc: 0.8917 - val_loss: 0.2355 - val_acc: 0.9351\n",
      "Epoch 3/20\n",
      "48000/48000 [==============================] - 1s 26us/step - loss: 0.3103 - acc: 0.9104 - val_loss: 0.1982 - val_acc: 0.9457\n",
      "Epoch 4/20\n",
      "48000/48000 [==============================] - 1s 25us/step - loss: 0.2706 - acc: 0.9205 - val_loss: 0.1739 - val_acc: 0.9499\n",
      "Epoch 5/20\n",
      "48000/48000 [==============================] - 1s 23us/step - loss: 0.2461 - acc: 0.9284 - val_loss: 0.1612 - val_acc: 0.9530\n",
      "Epoch 6/20\n",
      "48000/48000 [==============================] - 1s 24us/step - loss: 0.2256 - acc: 0.9342 - val_loss: 0.1461 - val_acc: 0.9596\n",
      "Epoch 7/20\n",
      "48000/48000 [==============================] - 1s 25us/step - loss: 0.2125 - acc: 0.9381 - val_loss: 0.1362 - val_acc: 0.9610\n",
      "Epoch 8/20\n",
      "48000/48000 [==============================] - 1s 24us/step - loss: 0.2007 - acc: 0.9412 - val_loss: 0.1290 - val_acc: 0.9633\n",
      "Epoch 9/20\n",
      "48000/48000 [==============================] - 1s 23us/step - loss: 0.1912 - acc: 0.9439 - val_loss: 0.1235 - val_acc: 0.9646\n",
      "Epoch 10/20\n",
      "48000/48000 [==============================] - 1s 23us/step - loss: 0.1807 - acc: 0.9463 - val_loss: 0.1184 - val_acc: 0.9668\n",
      "Epoch 11/20\n",
      "48000/48000 [==============================] - 1s 23us/step - loss: 0.1751 - acc: 0.9481 - val_loss: 0.1134 - val_acc: 0.9676\n",
      "Epoch 12/20\n",
      "48000/48000 [==============================] - 1s 23us/step - loss: 0.1670 - acc: 0.9491 - val_loss: 0.1096 - val_acc: 0.9687\n",
      "Epoch 13/20\n",
      "48000/48000 [==============================] - 1s 23us/step - loss: 0.1607 - acc: 0.9527 - val_loss: 0.1066 - val_acc: 0.9696\n",
      "Epoch 14/20\n",
      "48000/48000 [==============================] - 1s 23us/step - loss: 0.1551 - acc: 0.9536 - val_loss: 0.1059 - val_acc: 0.9707\n",
      "Epoch 15/20\n",
      "48000/48000 [==============================] - 1s 24us/step - loss: 0.1537 - acc: 0.9545 - val_loss: 0.1031 - val_acc: 0.9704\n",
      "Epoch 16/20\n",
      "48000/48000 [==============================] - 1s 25us/step - loss: 0.1455 - acc: 0.9554 - val_loss: 0.0973 - val_acc: 0.9721\n",
      "Epoch 17/20\n",
      "48000/48000 [==============================] - 1s 23us/step - loss: 0.1456 - acc: 0.9547 - val_loss: 0.0980 - val_acc: 0.9723\n",
      "Epoch 18/20\n",
      "48000/48000 [==============================] - 1s 23us/step - loss: 0.1376 - acc: 0.9581 - val_loss: 0.0973 - val_acc: 0.9720\n",
      "Epoch 19/20\n",
      "48000/48000 [==============================] - 1s 24us/step - loss: 0.1337 - acc: 0.9585 - val_loss: 0.0932 - val_acc: 0.9743\n",
      "Epoch 20/20\n",
      "48000/48000 [==============================] - 1s 25us/step - loss: 0.1295 - acc: 0.9603 - val_loss: 0.0927 - val_acc: 0.9743\n"
     ]
    }
   ],
   "source": [
    "# start training\n",
    "train_history = model.fit(\n",
    "    x = x_train,\n",
    "    y = y_train,\n",
    "    batch_size = 200,\n",
    "    epochs = 20,\n",
    "    validation_split = 0.2\n",
    ")"
   ]
  },
  {
   "cell_type": "code",
   "execution_count": 10,
   "metadata": {},
   "outputs": [],
   "source": [
    "def show_train_history(train_history, train, validation):\n",
    "    plt.clf()\n",
    "    plt.plot(train_history.history[train])\n",
    "    plt.plot(train_history.history[validation])\n",
    "    plt.title('Train History')\n",
    "    plt.ylabel(train)\n",
    "    plt.xlabel('Epoch')\n",
    "    plt.legend(['train', 'validation'], loc = 'upper left')\n",
    "#   plt.show()\n",
    "    savefig(plt, 'training_history_' + train)"
   ]
  },
  {
   "cell_type": "code",
   "execution_count": 11,
   "metadata": {},
   "outputs": [
    {
     "name": "stdout",
     "output_type": "stream",
     "text": [
      "Image file saved: ./temp/training_history_acc.png\n"
     ]
    },
    {
     "data": {
      "image/png": "[encoded data removed]",
      "text/plain": [
       "<matplotlib.figure.Figure at 0x1277d630>"
      ]
     },
     "metadata": {},
     "output_type": "display_data"
    }
   ],
   "source": [
    "show_train_history(train_history, 'acc', 'val_acc')"
   ]
  },
  {
   "cell_type": "code",
   "execution_count": 12,
   "metadata": {},
   "outputs": [
    {
     "name": "stdout",
     "output_type": "stream",
     "text": [
      "Image file saved: ./temp/training_history_loss.png\n",
      "\n"
     ]
    },
    {
     "data": {
      "image/png": "[encoded data removed]",
      "text/plain": [
       "<matplotlib.figure.Figure at 0x1277d400>"
      ]
     },
     "metadata": {},
     "output_type": "display_data"
    }
   ],
   "source": [
    "show_train_history(train_history, 'loss', 'val_loss')\n",
    "print()"
   ]
  },
  {
   "cell_type": "code",
   "execution_count": 13,
   "metadata": {},
   "outputs": [
    {
     "name": "stdout",
     "output_type": "stream",
     "text": [
      "Evaluating: \n",
      "10000/10000 [==============================] - 0s 24us/step\n",
      "The loss of testing data: 0.09473799616615287\n",
      "The accuracy of testing data = 97.09%\n"
     ]
    }
   ],
   "source": [
    "print('Evaluating: ')\n",
    "scores = model.evaluate(x_test, y_test)\n",
    "print(\"The loss of testing data:\", scores[0])\n",
    "print(\"The accuracy of testing data = {}%\".format(scores[1] * 100.0))"
   ]
  },
  {
   "cell_type": "code",
   "execution_count": 14,
   "metadata": {},
   "outputs": [
    {
     "name": "stdout",
     "output_type": "stream",
     "text": [
      "Predicting: \n",
      "10000/10000 [==============================] - 0s 20us/step\n",
      "predict    0     1    2    3    4    5    6    7    8    9\n",
      "y                                                         \n",
      "0        971     0    2    2    0    1    2    1    1    0\n",
      "1          0  1121    3    2    0    0    3    0    6    0\n",
      "2          5     2  994    5    4    1    2    8   11    0\n",
      "3          0     0    7  978    1    7    0    9    4    4\n",
      "4          1     0    3    0  953    0    6    2    1   16\n",
      "5          3     0    1   11    2  854    7    3    7    4\n",
      "6          5     2    1    1    3    5  936    0    5    0\n",
      "7          2     9   10    5    0    0    0  997    0    5\n",
      "8          5     1    2    8    5    4    5    9  932    3\n",
      "9          3     2    0    8   12    1    1    8    1  973 \n",
      "\n"
     ]
    }
   ],
   "source": [
    "print('Predicting: ')\n",
    "prediction = model.predict_classes(x_test, verbose = 1)\n",
    "print(pd.crosstab(y_test_label, prediction, colnames=['predict'], rownames=['y']), '\\n')"
   ]
  },
  {
   "cell_type": "code",
   "execution_count": 15,
   "metadata": {},
   "outputs": [
    {
     "name": "stdout",
     "output_type": "stream",
     "text": [
      "Data frame for error cases:\n",
      "      label  predict\n",
      "8         5        6\n",
      "151       9        8\n",
      "233       8        7\n",
      "247       4        6\n",
      "259       6        0\n",
      "321       2        7\n",
      "340       5        3\n",
      "381       3        7\n",
      "445       6        0\n",
      "449       3        5\n",
      "495       8        0\n",
      "551       7        1\n",
      "565       4        9\n",
      "582       8        2\n",
      "591       8        3\n",
      "613       2        8\n",
      "659       2        8\n",
      "684       7        3\n",
      "691       8        4\n",
      "707       4        9\n",
      "720       5        8\n",
      "740       4        9\n",
      "844       8        7\n",
      "881       4        9\n",
      "900       1        3\n",
      "924       2        7\n",
      "938       3        5\n",
      "947       8        9\n",
      "951       5        4\n",
      "956       1        2\n",
      "...     ...      ...\n",
      "9015      7        2\n",
      "9019      7        2\n",
      "9024      7        2\n",
      "9280      8        5\n",
      "9482      5        3\n",
      "9587      9        4\n",
      "9634      0        3\n",
      "9642      9        7\n",
      "9664      2        7\n",
      "9679      6        3\n",
      "9692      9        7\n",
      "9700      2        8\n",
      "9716      2        5\n",
      "9729      5        6\n",
      "9745      4        2\n",
      "9749      5        6\n",
      "9768      2        0\n",
      "9770      5        0\n",
      "9777      5        0\n",
      "9779      2        0\n",
      "9792      4        9\n",
      "9808      9        4\n",
      "9811      2        8\n",
      "9839      2        7\n",
      "9858      6        8\n",
      "9867      2        8\n",
      "9905      3        7\n",
      "9944      3        8\n",
      "9980      2        3\n",
      "9982      5        6\n",
      "\n",
      "[291 rows x 2 columns] \n",
      "\n"
     ]
    }
   ],
   "source": [
    "print('Data frame for error cases:')\n",
    "df = pd.DataFrame({'label': y_test_label, 'predict': prediction})\n",
    "error_list = df.loc[df.label != df.predict]\n",
    "print(error_list, '\\n')"
   ]
  },
  {
   "cell_type": "code",
   "execution_count": 16,
   "metadata": {},
   "outputs": [
    {
     "name": "stdout",
     "output_type": "stream",
     "text": [
      "The error case is at i = 5\n",
      "Image file saved: ./temp/images_test_5_12.png\n",
      "\n"
     ]
    },
    {
     "data": {
      "image/png": "[encoded data removed]",
      "text/plain": [
       "<matplotlib.figure.Figure at 0x123fa6a0>"
      ]
     },
     "metadata": {},
     "output_type": "display_data"
    }
   ],
   "source": [
    "print(\"The error case is at i = {}\".format(error_list.index[0] - 3))\n",
    "plot_images_labels_prediction(x_test_image, y_test_label, prediction, start_index = max(0, error_list.index[0] - 3))\n",
    "print()"
   ]
  },
  {
   "cell_type": "code",
   "execution_count": 17,
   "metadata": {},
   "outputs": [
    {
     "name": "stdout",
     "output_type": "stream",
     "text": [
      "Process ended. \n",
      "\n"
     ]
    }
   ],
   "source": [
    "print('Process ended.', '\\n')"
   ]
  },
  {
   "cell_type": "code",
   "execution_count": null,
   "metadata": {},
   "outputs": [],
   "source": []
  }
 ],
 "metadata": {
  "kernelspec": {
   "display_name": "Python 3",
   "language": "python",
   "name": "python3"
  },
  "language_info": {
   "codemirror_mode": {
    "name": "ipython",
    "version": 3
   },
   "file_extension": ".py",
   "mimetype": "text/x-python",
   "name": "python",
   "nbconvert_exporter": "python",
   "pygments_lexer": "ipython3",
   "version": "3.5.4"
  }
 },
 "nbformat": 4,
 "nbformat_minor": 2
}
